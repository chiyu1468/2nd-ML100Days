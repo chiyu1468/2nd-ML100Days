{
 "cells": [
  {
   "cell_type": "code",
   "execution_count": 0,
   "metadata": {},
   "outputs": [],
   "source": [
    "# Change directory to VSCode workspace root so that relative path loads work correctly. Turn this addition off with the DataScience.changeDirOnImportExport setting\n",
    "import os\n",
    "try:\n",
    "\tos.chdir(os.path.join(os.getcwd(), '..'))\n",
    "\tprint(os.getcwd())\n",
    "except:\n",
    "\tpass\n"
   ]
  },
  {
   "cell_type": "markdown",
   "metadata": {},
   "source": [
    " ## 練習時間\n",
    " 假設我們資料中類別的數量並不均衡，在評估準確率時可能會有所偏頗，試著切分出 y_test 中，0 類別與 1 類別的數量是一樣的 (亦即 y_test 的類別是均衡的)"
   ]
  },
  {
   "cell_type": "code",
   "execution_count": 1,
   "metadata": {},
   "outputs": [],
   "source": [
    "import numpy as np\n",
    "from sklearn.model_selection import train_test_split, KFold\n",
    "X = np.arange(1000).reshape(200, 5)\n",
    "y = np.zeros(200)\n",
    "y[:40] = 1\n"
   ]
  },
  {
   "cell_type": "markdown",
   "metadata": {},
   "source": [
    " 可以看見 y 類別中，有 160 個 類別 0，40 個 類別 1 ，請試著使用 train_test_split 函數，\n",
    " 切分出 y_test 中能各有 10 筆類別 0 與 10 筆類別 1 。(HINT: 參考函數中的 test_size，可針對不同類別各自作切分後再合併)\n",
    " > 我想題目應該改成按照比例切分會比較合乎邏輯\n",
    " > 不然會使 Training Data 有\"濃度\"差異，進而造成訓練出來的模型有未知的 variance"
   ]
  },
  {
   "cell_type": "code",
   "execution_count": 2,
   "metadata": {},
   "outputs": [],
   "source": [
    "X_train, X_test, y_train, y_test = train_test_split(\n",
    "    X, y, test_size=0.1, random_state=42, stratify=y)\n"
   ]
  },
  {
   "cell_type": "code",
   "execution_count": 3,
   "metadata": {},
   "outputs": [
    {
     "data": {
      "text/plain": [
       "array([0., 1., 0., 1., 1., 0., 0., 1., 0., 0., 0., 0., 0., 0., 0., 0., 0.,\n",
       "       0., 0., 0.])"
      ]
     },
     "execution_count": 3,
     "metadata": {},
     "output_type": "execute_result"
    }
   ],
   "source": [
    "y_test\n"
   ]
  },
  {
   "cell_type": "code",
   "execution_count": 4,
   "metadata": {},
   "outputs": [],
   "source": [
    "# However, this is homework. so just do it~\n",
    "X_1 = X[y == 1]\n",
    "X_0 = X[y == 0]\n",
    "y_1 = y[y == 1]\n",
    "y_0 = y[y == 0]\n",
    "\n",
    "_, X0_test, _, y0_test = train_test_split(\n",
    "    X_0, y_0, test_size=10, random_state=42)\n",
    "_, X1_test, _, y1_test = train_test_split(\n",
    "    X_1, y_1, test_size=10, random_state=42)\n",
    "\n",
    "X_test = np.append(X1_test, X0_test)\n",
    "y_test = np.append(y1_test, y0_test)\n"
   ]
  },
  {
   "cell_type": "code",
   "execution_count": 5,
   "metadata": {},
   "outputs": [
    {
     "data": {
      "text/plain": [
       "array([1., 1., 1., 1., 1., 1., 1., 1., 1., 1., 0., 0., 0., 0., 0., 0., 0.,\n",
       "       0., 0., 0.])"
      ]
     },
     "execution_count": 5,
     "metadata": {},
     "output_type": "execute_result"
    }
   ],
   "source": [
    "y_test\n"
   ]
  },
  {
   "cell_type": "code",
   "execution_count": 6,
   "metadata": {},
   "outputs": [
    {
     "data": {
      "text/plain": [
       "array([ 95,  96,  97,  98,  99,  80,  81,  82,  83,  84,  75,  76,  77,\n",
       "        78,  79, 130, 131, 132, 133, 134,  20,  21,  22,  23,  24,  60,\n",
       "        61,  62,  63,  64, 185, 186, 187, 188, 189, 135, 136, 137, 138,\n",
       "       139, 195, 196, 197, 198, 199,  30,  31,  32,  33,  34, 725, 726,\n",
       "       727, 728, 729, 740, 741, 742, 743, 744, 905, 906, 907, 908, 909,\n",
       "       475, 476, 477, 478, 479, 670, 671, 672, 673, 674, 345, 346, 347,\n",
       "       348, 349, 705, 706, 707, 708, 709, 455, 456, 457, 458, 459, 700,\n",
       "       701, 702, 703, 704, 910, 911, 912, 913, 914])"
      ]
     },
     "execution_count": 6,
     "metadata": {},
     "output_type": "execute_result"
    }
   ],
   "source": [
    "X_test\n"
   ]
  },
  {
   "cell_type": "code",
   "execution_count": 7,
   "metadata": {},
   "outputs": [],
   "source": []
  }
 ],
 "metadata": {
  "file_extension": ".py",
  "kernelspec": {
   "display_name": "Python 3",
   "language": "python",
   "name": "python3"
  },
  "language_info": {
   "codemirror_mode": {
    "name": "ipython",
    "version": 3
   },
   "file_extension": ".py",
   "mimetype": "text/x-python",
   "name": "python",
   "nbconvert_exporter": "python",
   "pygments_lexer": "ipython3",
   "version": "3.6.2"
  },
  "mimetype": "text/x-python",
  "name": "python",
  "npconvert_exporter": "python",
  "pygments_lexer": "ipython3",
  "version": 3
 },
 "nbformat": 4,
 "nbformat_minor": 2
}
