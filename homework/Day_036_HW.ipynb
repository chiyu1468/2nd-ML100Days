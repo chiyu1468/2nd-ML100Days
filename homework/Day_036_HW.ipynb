{
 "cells": [
  {
   "cell_type": "code",
   "execution_count": 0,
   "metadata": {},
   "outputs": [],
   "source": [
    "# Change directory to VSCode workspace root so that relative path loads work correctly. Turn this addition off with the DataScience.changeDirOnImportExport setting\n",
    "import os\n",
    "try:\n",
    "\tos.chdir(os.path.join(os.getcwd(), '..'))\n",
    "\tprint(os.getcwd())\n",
    "except:\n",
    "\tpass\n"
   ]
  },
  {
   "cell_type": "markdown",
   "metadata": {},
   "source": [
    " ## 練習時間\n",
    " ### F1-Score 其實是 F-Score 中的 β 值為 1 的特例，代表 Precision 與 Recall 的權重相同\n",
    "\n",
    " 請參考 F1-score 的[公式](https://en.wikipedia.org/wiki/F1_score) 與下圖的 F2-score 公式圖，試著寫出 F2-Score 的計算函數"
   ]
  },
  {
   "cell_type": "markdown",
   "metadata": {},
   "source": [
    " HINT: 可使用 slearn.metrics 中的 precision, recall 函數幫忙\n",
    " > precision -> 判斷為 positive 裡面有多少是 真的為 positive\n",
    " > recall -> 真的為 positive 裡面有多少是 被判斷為 positive"
   ]
  },
  {
   "cell_type": "code",
   "execution_count": 1,
   "metadata": {},
   "outputs": [
    {
     "name": "stdout",
     "output_type": "stream",
     "text": [
      "Tp : 28, Fn : 29, Fp : 22, Tn : 21\n",
      "precision : 0.5600, recall : 0.4912\n"
     ]
    }
   ],
   "source": [
    "import numpy as np\n",
    "y_pred = np.random.randint(2, size=100)  # 生成 100 個隨機的 0 / 1 prediction\n",
    "y_true = np.random.randint(2, size=100)  # 生成 100 個隨機的 0 / 1 ground truth\n",
    "\n",
    "x = y_true - y_pred\n",
    "Tp = np.count_nonzero(np.logical_and(y_pred, y_true))\n",
    "Fn = np.count_nonzero(x > 0)\n",
    "Fp = np.count_nonzero(x < 0)\n",
    "Tn = len(x) - np.count_nonzero(np.logical_or(y_pred, y_true))\n",
    "\n",
    "precision = Tp / (Tp+Fp)\n",
    "recall = Tp / (Tp+Fn)\n",
    "\n",
    "print(f'Tp : {Tp}, Fn : {Fn}, Fp : {Fp}, Tn : {Tn}')\n",
    "print(f'precision : {precision:.4f}, recall : {recall:.4f}')\n"
   ]
  },
  {
   "cell_type": "code",
   "execution_count": 2,
   "metadata": {},
   "outputs": [],
   "source": [
    "def FnScore(p, r, beta):\n",
    "    return (1+beta**2)*p*r / ((beta**2)*p + r)\n",
    "\n"
   ]
  },
  {
   "cell_type": "code",
   "execution_count": 3,
   "metadata": {},
   "outputs": [
    {
     "name": "stdout",
     "output_type": "stream",
     "text": [
      "F1-score : 0.5234\n",
      "F2-score : 0.5036\n"
     ]
    }
   ],
   "source": [
    "print(f'F1-score : {FnScore(precision, recall, 1):.4f}')\n",
    "print(f'F2-score : {FnScore(precision, recall, 2):.4f}')\n",
    "\n",
    "\n"
   ]
  },
  {
   "cell_type": "code",
   "execution_count": 4,
   "metadata": {},
   "outputs": [],
   "source": []
  }
 ],
 "metadata": {
  "file_extension": ".py",
  "kernelspec": {
   "display_name": "Python 3",
   "language": "python",
   "name": "python3"
  },
  "language_info": {
   "codemirror_mode": {
    "name": "ipython",
    "version": 3
   },
   "file_extension": ".py",
   "mimetype": "text/x-python",
   "name": "python",
   "nbconvert_exporter": "python",
   "pygments_lexer": "ipython3",
   "version": "3.6.2"
  },
  "mimetype": "text/x-python",
  "name": "python",
  "npconvert_exporter": "python",
  "pygments_lexer": "ipython3",
  "version": 3
 },
 "nbformat": 4,
 "nbformat_minor": 2
}
