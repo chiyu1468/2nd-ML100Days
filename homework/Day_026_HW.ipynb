{
 "cells": [
  {
   "cell_type": "code",
   "execution_count": 0,
   "metadata": {},
   "outputs": [],
   "source": [
    "# Change directory to VSCode workspace root so that relative path loads work correctly. Turn this addition off with the DataScience.changeDirOnImportExport setting\n",
    "import os\n",
    "try:\n",
    "\tos.chdir(os.path.join(os.getcwd(), '..'))\n",
    "\tprint(os.getcwd())\n",
    "except:\n",
    "\tpass\n"
   ]
  },
  {
   "cell_type": "markdown",
   "metadata": {},
   "source": [
    " # 範例 : 計程車費率預測\n",
    " https://www.kaggle.com/c/new-york-city-taxi-fare-prediction"
   ]
  },
  {
   "cell_type": "markdown",
   "metadata": {},
   "source": [
    " # [作業目標]\n",
    " - 使用並觀察特徵組合, 在計程車費率預測競賽的影響"
   ]
  },
  {
   "cell_type": "markdown",
   "metadata": {},
   "source": [
    " # [作業重點]\n",
    " - 仿造範例並參考今日課程內容, 使用經緯度一圈的長度比的概念造出新特徵, 觀察有什麼影響 (In[6], Out[6])\n",
    " - 只使用上面所造的這個新特徵, 觀察有什麼影響 (In[7], Out[7])"
   ]
  },
  {
   "cell_type": "code",
   "execution_count": 2,
   "metadata": {},
   "outputs": [
    {
     "data": {
      "text/plain": [
       "(5000, 6)"
      ]
     },
     "execution_count": 2,
     "metadata": {},
     "output_type": "execute_result"
    }
   ],
   "source": [
    "# 做完特徵工程前的所有準備\n",
    "import pandas as pd\n",
    "import numpy as np\n",
    "import datetime\n",
    "from sklearn.preprocessing import MinMaxScaler\n",
    "from sklearn.model_selection import cross_val_score\n",
    "from sklearn.linear_model import LinearRegression\n",
    "from sklearn.ensemble import GradientBoostingRegressor\n",
    "\n",
    "data_path = 'data/'\n",
    "df = pd.read_csv(data_path + 'taxi_data1.csv')\n",
    "\n",
    "train_Y = df['fare_amount']\n",
    "df = df.drop(['fare_amount'] , axis=1)\n",
    "# df.head()\n",
    "df.shape\n",
    "\n"
   ]
  },
  {
   "cell_type": "code",
   "execution_count": 3,
   "metadata": {},
   "outputs": [
    {
     "data": {
      "text/plain": [
       "(5000, 12)"
      ]
     },
     "execution_count": 3,
     "metadata": {},
     "output_type": "execute_result"
    }
   ],
   "source": [
    "# 時間特徵分解方式:使用datetime\n",
    "df['pickup_datetime'] = df['pickup_datetime'].apply(lambda x: datetime.datetime.strptime(x, '%Y-%m-%d %H:%M:%S UTC'))\n",
    "df['pickup_year'] = df['pickup_datetime'].apply(lambda x: datetime.datetime.strftime(x, '%Y')).astype('int64')\n",
    "df['pickup_month'] = df['pickup_datetime'].apply(lambda x: datetime.datetime.strftime(x, '%m')).astype('int64')\n",
    "df['pickup_day'] = df['pickup_datetime'].apply(lambda x: datetime.datetime.strftime(x, '%d')).astype('int64')\n",
    "df['pickup_hour'] = df['pickup_datetime'].apply(lambda x: datetime.datetime.strftime(x, '%H')).astype('int64')\n",
    "df['pickup_minute'] = df['pickup_datetime'].apply(lambda x: datetime.datetime.strftime(x, '%M')).astype('int64')\n",
    "df['pickup_second'] = df['pickup_datetime'].apply(lambda x: datetime.datetime.strftime(x, '%S')).astype('int64')\n",
    "# df.head()\n",
    "df.shape\n",
    "\n"
   ]
  },
  {
   "cell_type": "code",
   "execution_count": 4,
   "metadata": {},
   "outputs": [
    {
     "name": "stdout",
     "output_type": "stream",
     "text": [
      "Linear Reg Score : 0.02687687147563449\n",
      "Gradient Boosting Reg Score : 0.7117873622216987\n"
     ]
    }
   ],
   "source": [
    "# 將結果使用線性迴歸 / 梯度提升樹分別看結果\n",
    "df = df.drop(['pickup_datetime'] , axis=1)\n",
    "scaler = MinMaxScaler()\n",
    "train_X = scaler.fit_transform(df)\n",
    "Linear = LinearRegression()\n",
    "print(f'Linear Reg Score : {cross_val_score(Linear, train_X, train_Y, cv=5).mean()}')\n",
    "GDBT = GradientBoostingRegressor()\n",
    "print(f'Gradient Boosting Reg Score : {cross_val_score(GDBT, train_X, train_Y, cv=5).mean()}')\n",
    "\n"
   ]
  },
  {
   "cell_type": "code",
   "execution_count": 5,
   "metadata": {},
   "outputs": [
    {
     "data": {
      "text/html": [
       "<div>\n",
       "<style scoped>\n",
       "    .dataframe tbody tr th:only-of-type {\n",
       "        vertical-align: middle;\n",
       "    }\n",
       "\n",
       "    .dataframe tbody tr th {\n",
       "        vertical-align: top;\n",
       "    }\n",
       "\n",
       "    .dataframe thead th {\n",
       "        text-align: right;\n",
       "    }\n",
       "</style>\n",
       "<table border=\"1\" class=\"dataframe\">\n",
       "  <thead>\n",
       "    <tr style=\"text-align: right;\">\n",
       "      <th></th>\n",
       "      <th>distance_2D</th>\n",
       "      <th>longitude_diff</th>\n",
       "      <th>latitude_diff</th>\n",
       "      <th>pickup_longitude</th>\n",
       "      <th>pickup_latitude</th>\n",
       "      <th>dropoff_longitude</th>\n",
       "      <th>dropoff_latitude</th>\n",
       "    </tr>\n",
       "  </thead>\n",
       "  <tbody>\n",
       "    <tr>\n",
       "      <th>0</th>\n",
       "      <td>0.009761</td>\n",
       "      <td>0.009452</td>\n",
       "      <td>-0.002437</td>\n",
       "      <td>-73.990580</td>\n",
       "      <td>40.761071</td>\n",
       "      <td>-73.981128</td>\n",
       "      <td>40.758634</td>\n",
       "    </tr>\n",
       "    <tr>\n",
       "      <th>1</th>\n",
       "      <td>0.018307</td>\n",
       "      <td>-0.001244</td>\n",
       "      <td>0.018265</td>\n",
       "      <td>-73.988403</td>\n",
       "      <td>40.723431</td>\n",
       "      <td>-73.989647</td>\n",
       "      <td>40.741695</td>\n",
       "    </tr>\n",
       "    <tr>\n",
       "      <th>2</th>\n",
       "      <td>0.008140</td>\n",
       "      <td>0.003756</td>\n",
       "      <td>-0.007222</td>\n",
       "      <td>-74.015785</td>\n",
       "      <td>40.715110</td>\n",
       "      <td>-74.012029</td>\n",
       "      <td>40.707888</td>\n",
       "    </tr>\n",
       "    <tr>\n",
       "      <th>3</th>\n",
       "      <td>0.021056</td>\n",
       "      <td>0.019292</td>\n",
       "      <td>-0.008437</td>\n",
       "      <td>-73.977322</td>\n",
       "      <td>40.787275</td>\n",
       "      <td>-73.958030</td>\n",
       "      <td>40.778838</td>\n",
       "    </tr>\n",
       "    <tr>\n",
       "      <th>4</th>\n",
       "      <td>0.032964</td>\n",
       "      <td>0.007193</td>\n",
       "      <td>0.032170</td>\n",
       "      <td>-73.989683</td>\n",
       "      <td>40.729717</td>\n",
       "      <td>-73.982490</td>\n",
       "      <td>40.761887</td>\n",
       "    </tr>\n",
       "  </tbody>\n",
       "</table>\n",
       "</div>"
      ],
      "text/plain": [
       "   distance_2D  longitude_diff  latitude_diff  pickup_longitude  \\\n",
       "0     0.009761        0.009452      -0.002437        -73.990580   \n",
       "1     0.018307       -0.001244       0.018265        -73.988403   \n",
       "2     0.008140        0.003756      -0.007222        -74.015785   \n",
       "3     0.021056        0.019292      -0.008437        -73.977322   \n",
       "4     0.032964        0.007193       0.032170        -73.989683   \n",
       "\n",
       "   pickup_latitude  dropoff_longitude  dropoff_latitude  \n",
       "0        40.761071         -73.981128         40.758634  \n",
       "1        40.723431         -73.989647         40.741695  \n",
       "2        40.715110         -74.012029         40.707888  \n",
       "3        40.787275         -73.958030         40.778838  \n",
       "4        40.729717         -73.982490         40.761887  "
      ]
     },
     "execution_count": 5,
     "metadata": {},
     "output_type": "execute_result"
    }
   ],
   "source": [
    "# 增加緯度差, 經度差, 座標距離等三個特徵\n",
    "df['longitude_diff'] = df['dropoff_longitude'] - df['pickup_longitude']\n",
    "df['latitude_diff'] = df['dropoff_latitude'] - df['pickup_latitude']\n",
    "df['distance_2D'] = (df['longitude_diff']**2 + df['latitude_diff']**2)**0.5\n",
    "df[['distance_2D', 'longitude_diff', 'latitude_diff', 'pickup_longitude', 'pickup_latitude', 'dropoff_longitude', 'dropoff_latitude']].head()\n",
    "\n"
   ]
  },
  {
   "cell_type": "code",
   "execution_count": 6,
   "metadata": {},
   "outputs": [
    {
     "name": "stdout",
     "output_type": "stream",
     "text": [
      "Linear Reg Score : 0.027551630955711625\n",
      "Gradient Boosting Reg Score : 0.804506059384505\n"
     ]
    }
   ],
   "source": [
    "# 結果 : 準確度上升\n",
    "train_X = scaler.fit_transform(df)\n",
    "print(f'Linear Reg Score : {cross_val_score(Linear, train_X, train_Y, cv=5).mean()}')\n",
    "print(f'Gradient Boosting Reg Score : {cross_val_score(GDBT, train_X, train_Y, cv=5).mean()}')\n"
   ]
  },
  {
   "cell_type": "markdown",
   "metadata": {},
   "source": [
    " # 作業1\n",
    " * 參考今日教材，試著使用經緯度一圈的長度比這一概念，組合出一個新特徵，再觀察原特徵加上新特徵是否提升了正確率?"
   ]
  },
  {
   "cell_type": "code",
   "execution_count": 7,
   "metadata": {},
   "outputs": [
    {
     "name": "stdout",
     "output_type": "stream",
     "text": [
      "count    5000.000000\n",
      "mean       39.981148\n",
      "std         5.989760\n",
      "min       -73.999735\n",
      "25%        40.735483\n",
      "50%        40.752824\n",
      "75%        40.767127\n",
      "max        41.366138\n",
      "Name: pickup_latitude, dtype: float64\n",
      "count    5000.000000\n",
      "mean       39.972626\n",
      "std         6.016378\n",
      "min       -74.002015\n",
      "25%        40.733386\n",
      "50%        40.752687\n",
      "75%        40.767461\n",
      "max        41.366138\n",
      "Name: dropoff_latitude, dtype: float64\n"
     ]
    }
   ],
   "source": [
    "# 稍微看一下大致 latitude 分布狀況\n",
    "print(df['pickup_latitude'].describe())\n",
    "print(df['dropoff_latitude'].describe())\n"
   ]
  },
  {
   "cell_type": "code",
   "execution_count": 8,
   "metadata": {},
   "outputs": [
    {
     "data": {
      "text/html": [
       "<div>\n",
       "<style scoped>\n",
       "    .dataframe tbody tr th:only-of-type {\n",
       "        vertical-align: middle;\n",
       "    }\n",
       "\n",
       "    .dataframe tbody tr th {\n",
       "        vertical-align: top;\n",
       "    }\n",
       "\n",
       "    .dataframe thead th {\n",
       "        text-align: right;\n",
       "    }\n",
       "</style>\n",
       "<table border=\"1\" class=\"dataframe\">\n",
       "  <thead>\n",
       "    <tr style=\"text-align: right;\">\n",
       "      <th></th>\n",
       "      <th>distance_2D</th>\n",
       "      <th>distance_real</th>\n",
       "      <th>longitude_diff</th>\n",
       "      <th>latitude_diff</th>\n",
       "      <th>pickup_longitude</th>\n",
       "      <th>pickup_latitude</th>\n",
       "      <th>dropoff_longitude</th>\n",
       "      <th>dropoff_latitude</th>\n",
       "    </tr>\n",
       "  </thead>\n",
       "  <tbody>\n",
       "    <tr>\n",
       "      <th>0</th>\n",
       "      <td>0.009761</td>\n",
       "      <td>0.007569</td>\n",
       "      <td>0.009452</td>\n",
       "      <td>-0.002437</td>\n",
       "      <td>-73.990580</td>\n",
       "      <td>40.761071</td>\n",
       "      <td>-73.981128</td>\n",
       "      <td>40.758634</td>\n",
       "    </tr>\n",
       "    <tr>\n",
       "      <th>1</th>\n",
       "      <td>0.018307</td>\n",
       "      <td>0.018289</td>\n",
       "      <td>-0.001244</td>\n",
       "      <td>0.018265</td>\n",
       "      <td>-73.988403</td>\n",
       "      <td>40.723431</td>\n",
       "      <td>-73.989647</td>\n",
       "      <td>40.741695</td>\n",
       "    </tr>\n",
       "    <tr>\n",
       "      <th>2</th>\n",
       "      <td>0.008140</td>\n",
       "      <td>0.007763</td>\n",
       "      <td>0.003756</td>\n",
       "      <td>-0.007222</td>\n",
       "      <td>-74.015785</td>\n",
       "      <td>40.715110</td>\n",
       "      <td>-74.012029</td>\n",
       "      <td>40.707888</td>\n",
       "    </tr>\n",
       "    <tr>\n",
       "      <th>3</th>\n",
       "      <td>0.021056</td>\n",
       "      <td>0.016885</td>\n",
       "      <td>0.019292</td>\n",
       "      <td>-0.008437</td>\n",
       "      <td>-73.977322</td>\n",
       "      <td>40.787275</td>\n",
       "      <td>-73.958030</td>\n",
       "      <td>40.778838</td>\n",
       "    </tr>\n",
       "    <tr>\n",
       "      <th>4</th>\n",
       "      <td>0.032964</td>\n",
       "      <td>0.032629</td>\n",
       "      <td>0.007193</td>\n",
       "      <td>0.032170</td>\n",
       "      <td>-73.989683</td>\n",
       "      <td>40.729717</td>\n",
       "      <td>-73.982490</td>\n",
       "      <td>40.761887</td>\n",
       "    </tr>\n",
       "  </tbody>\n",
       "</table>\n",
       "</div>"
      ],
      "text/plain": [
       "   distance_2D  distance_real  longitude_diff  latitude_diff  \\\n",
       "0     0.009761       0.007569        0.009452      -0.002437   \n",
       "1     0.018307       0.018289       -0.001244       0.018265   \n",
       "2     0.008140       0.007763        0.003756      -0.007222   \n",
       "3     0.021056       0.016885        0.019292      -0.008437   \n",
       "4     0.032964       0.032629        0.007193       0.032170   \n",
       "\n",
       "   pickup_longitude  pickup_latitude  dropoff_longitude  dropoff_latitude  \n",
       "0        -73.990580        40.761071         -73.981128         40.758634  \n",
       "1        -73.988403        40.723431         -73.989647         40.741695  \n",
       "2        -74.015785        40.715110         -74.012029         40.707888  \n",
       "3        -73.977322        40.787275         -73.958030         40.778838  \n",
       "4        -73.989683        40.729717         -73.982490         40.761887  "
      ]
     },
     "execution_count": 8,
     "metadata": {},
     "output_type": "execute_result"
    }
   ],
   "source": [
    "longitude_ratio = np.cos(40.7/180*np.pi)\n",
    "df['distance_real'] = np.sqrt((df['longitude_diff']*longitude_ratio)**2 + df['latitude_diff']**2)\n",
    "df[['distance_2D', 'distance_real', 'longitude_diff', 'latitude_diff', 'pickup_longitude', 'pickup_latitude', 'dropoff_longitude', 'dropoff_latitude']].head()\n"
   ]
  },
  {
   "cell_type": "code",
   "execution_count": 9,
   "metadata": {},
   "outputs": [
    {
     "name": "stdout",
     "output_type": "stream",
     "text": [
      "Linear Reg Score : 0.027504012313373648\n",
      "Gradient Boosting Reg Score : 0.8054747748148199\n"
     ]
    }
   ],
   "source": [
    "# 觀察結果 \n",
    "df_temp = df.drop(['distance_2D'] , axis=1)\n",
    "train_X = scaler.fit_transform(df_temp)\n",
    "print(f'Linear Reg Score : {cross_val_score(Linear, train_X, train_Y, cv=5).mean()}')\n",
    "print(f'Gradient Boosting Reg Score : {cross_val_score(GDBT, train_X, train_Y, cv=5).mean()}')\n"
   ]
  },
  {
   "cell_type": "markdown",
   "metadata": {},
   "source": [
    " # 作業2\n",
    " * 試著只使用新特徵估計目標值(忽略原特徵)，效果跟作業1的結果比較起來效果如何?"
   ]
  },
  {
   "cell_type": "code",
   "execution_count": 10,
   "metadata": {},
   "outputs": [
    {
     "name": "stdout",
     "output_type": "stream",
     "text": [
      "Linear Reg Score : 0.0014467232932046097\n",
      "Gradient Boosting Reg Score : 0.7188173679091587\n"
     ]
    }
   ],
   "source": [
    "train_X = scaler.fit_transform(df[['distance_real']])\n",
    "print(f'Linear Reg Score : {cross_val_score(Linear, train_X, train_Y, cv=5).mean()}')\n",
    "print(f'Gradient Boosting Reg Score : {cross_val_score(GDBT, train_X, train_Y, cv=5).mean()}')\n",
    "\n"
   ]
  },
  {
   "cell_type": "code",
   "execution_count": 11,
   "metadata": {},
   "outputs": [],
   "source": [
    "\n",
    "\n",
    "\n"
   ]
  },
  {
   "cell_type": "code",
   "execution_count": 12,
   "metadata": {},
   "outputs": [],
   "source": []
  }
 ],
 "metadata": {
  "file_extension": ".py",
  "kernelspec": {
   "display_name": "Python 3",
   "language": "python",
   "name": "python3"
  },
  "language_info": {
   "codemirror_mode": {
    "name": "ipython",
    "version": 3
   },
   "file_extension": ".py",
   "mimetype": "text/x-python",
   "name": "python",
   "nbconvert_exporter": "python",
   "pygments_lexer": "ipython3",
   "version": "3.6.2"
  },
  "mimetype": "text/x-python",
  "name": "python",
  "npconvert_exporter": "python",
  "pygments_lexer": "ipython3",
  "version": 3
 },
 "nbformat": 4,
 "nbformat_minor": 2
}
