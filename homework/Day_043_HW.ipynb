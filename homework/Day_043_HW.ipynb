{
 "cells": [
  {
   "cell_type": "code",
   "execution_count": 0,
   "metadata": {
    "collapsed": true
   },
   "outputs": [],
   "source": [
    "# Change directory to VSCode workspace root so that relative path loads work correctly. Turn this addition off with the DataScience.changeDirOnImportExport setting\n",
    "import os\n",
    "try:\n",
    "\tos.chdir(os.path.join(os.getcwd(), '..'))\n",
    "\tprint(os.getcwd())\n",
    "except:\n",
    "\tpass\n"
   ]
  },
  {
   "cell_type": "markdown",
   "metadata": {},
   "source": [
    " ## [作業重點]\n",
    " 了解隨機森林改善了決策樹的什麼缺點？是用什麼方法改進的？"
   ]
  },
  {
   "cell_type": "markdown",
   "metadata": {},
   "source": [
    " ## 作業\n",
    "\n",
    " 閱讀以下兩篇文獻，了解隨機森林原理，並試著回答後續的思考問題\n",
    " - [隨機森林 (random forest) - 中文](http://hhtucode.blogspot.tw/2013/06/ml-random-forest.html)\n",
    " - [how random forest works - 英文](https://medium.com/@Synced/how-random-forest-algorithm-works-in-machine-learning-3c0fe15b6674)"
   ]
  },
  {
   "cell_type": "markdown",
   "metadata": {},
   "source": [
    "\n",
    " 1. 隨機森林中的每一棵樹，是希望能夠\n",
    "\n",
    "     - 沒有任何限制，讓樹可以持續生長 (讓樹生成很深，讓模型變得複雜)\n",
    "\n",
    "     - 不要過度生長，避免 Overfitting\n",
    "\n",
    "\n",
    " 2. 假設總共有 N 筆資料，每棵樹用取後放回的方式抽了總共 N 筆資料生成，請問這棵樹大約使用了多少 % 不重複的原資料生成?\n",
    " hint: 0.632 bootstrap\n"
   ]
  },
  {
   "cell_type": "markdown",
   "metadata": {},
   "source": [
    " ## Ans:\n",
    " > 1. 不要過度生長，避免 Overfitting\n",
    " > 2.\n",
    " > 這個問題可以藉由轉換變成兩種方式求解: <br>\n",
    " > a. \"在 N 次的選擇過程中，每筆被選過至少一次的機率有多少\" <br>\n",
    " > b. \"在 N 次的選擇過程中，完全不被選中的機率有多少\" <br>\n",
    " > 選項a 因為要考量到被選到一次、兩次...到 N 次，所以求解相當不易 <br>\n",
    " > 選項b 每次的選擇都有 $(1-\\frac{1}{N})$機會不被挑選中，若挑選 N 次，則完全不被選中的機會就是 <br>\n",
    " > $p(N) = (1-\\frac{1}{N})^N$ <br>\n",
    " > 當 N 值不斷增加，則可以用 the limit definition of the exponential formula 估算出\n",
    " > $\\lim_{N \\to \\infty}p(N) = \\lim_{N \\to \\infty}(1+\\frac{(-1)}{N})^N = exp(-1) = 0.3678$\n",
    " > 所以當 N 值越大，使用的資料數量會越接近 63.21%"
   ]
  },
  {
   "cell_type": "code",
   "execution_count": 1,
   "metadata": {
    "collapsed": true
   },
   "outputs": [],
   "source": []
  }
 ],
 "metadata": {
  "file_extension": ".py",
  "kernelspec": {
   "display_name": "Python 3",
   "language": "python",
   "name": "python3"
  },
  "language_info": {
   "codemirror_mode": {
    "name": "ipython",
    "version": 3
   },
   "file_extension": ".py",
   "mimetype": "text/x-python",
   "name": "python",
   "nbconvert_exporter": "python",
   "pygments_lexer": "ipython3",
   "version": "3.6.0"
  },
  "mimetype": "text/x-python",
  "name": "python",
  "npconvert_exporter": "python",
  "pygments_lexer": "ipython3",
  "version": 3
 },
 "nbformat": 4,
 "nbformat_minor": 2
}
